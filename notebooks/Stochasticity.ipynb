{
 "cells": [
  {
   "cell_type": "markdown",
   "metadata": {},
   "source": [
    "# Stochastic simulation \n",
    "\n",
    "Examples taken from https://arxiv.org/pdf/1803.06934.pdf.\n",
    "\n",
    "Examples are performed on an SIR model.\n",
    "\n",
    "$\\frac{dS}{dt} = -\\beta S I $\n",
    "\n",
    "$\\frac{dI}{dt} = \\beta S I - \\gamma I$\n",
    "\n",
    "$\\frac{dR}{dt} = \\gamma I$"
   ]
  },
  {
   "cell_type": "markdown",
   "metadata": {},
   "source": [
    "## Parameter stochasticity\n",
    "Parameter values are sampled from a distribution.\n",
    "\n",
    "We are providing a deterministic solution for a set of parameter values."
   ]
  },
  {
   "cell_type": "code",
   "execution_count": 8,
   "metadata": {},
   "outputs": [],
   "source": [
    "from pygom import Transition, TransitionType, SimulateOde\n",
    "\n",
    "# construct model \n",
    "states = ['S', 'I', 'R']\n",
    "params = ['beta', 'gamma', 'N']\n",
    "transitions = [Transition(origin='S', destination='I', equation='beta*S*I/N', transition_type=TransitionType.T),\n",
    "               Transition(origin='I', destination='R', equation='gamma*I', transition_type=TransitionType.T)]\n",
    "\n",
    "model = SimulateOde(states, params, transition=transitions)\n",
    "\n"
   ]
  },
  {
   "cell_type": "code",
   "execution_count": 12,
   "metadata": {},
   "outputs": [],
   "source": [
    "# deterministic parameter values\n",
    "param_evals = [('beta', 3.6), ('gamma', 0.2), ('N', N)]\n",
    "\n",
    "#initial conditions \n",
    "N = 7781984.0\n",
    "in_inf = 20.0\n",
    "init_state = [N - in_inf, in_inf, 0.0]"
   ]
  },
  {
   "cell_type": "code",
   "execution_count": 13,
   "metadata": {},
   "outputs": [
    {
     "data": {
      "text/plain": [
       "[7781964.0, 20.0, 0.0]"
      ]
     },
     "execution_count": 13,
     "metadata": {},
     "output_type": "execute_result"
    }
   ],
   "source": [
    "from pygom.utilR import rgamma\n",
    "# define parameter distributions\n",
    "d = dict()\n",
    "d['beta'] = (rgamma, {'shape':3600.0, 'rate':1000.0})\n",
    "d['gamma'] = (rgamma, {'shape':1000.0, 'rate':500.0})\n",
    "d['N'] = N\n"
   ]
  },
  {
   "cell_type": "code",
   "execution_count": null,
   "metadata": {},
   "outputs": [],
   "source": []
  }
 ],
 "metadata": {
  "kernelspec": {
   "display_name": "Python 3",
   "language": "python",
   "name": "python3"
  },
  "language_info": {
   "codemirror_mode": {
    "name": "ipython",
    "version": 3
   },
   "file_extension": ".py",
   "mimetype": "text/x-python",
   "name": "python",
   "nbconvert_exporter": "python",
   "pygments_lexer": "ipython3",
   "version": "3.6.7"
  }
 },
 "nbformat": 4,
 "nbformat_minor": 2
}
